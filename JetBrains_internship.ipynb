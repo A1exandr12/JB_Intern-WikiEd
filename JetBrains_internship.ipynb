{
  "nbformat": 4,
  "nbformat_minor": 0,
  "metadata": {
    "colab": {
      "name": "JetBrains_internship.ipynb",
      "provenance": [],
      "collapsed_sections": [],
      "mount_file_id": "18KZmSTxK31gyVkpbufwbhD4Lph0HXMwz",
      "authorship_tag": "ABX9TyOq4qNWe3Z3q7KDE50dkqJW",
      "include_colab_link": true
    },
    "kernelspec": {
      "name": "python3",
      "display_name": "Python 3"
    },
    "language_info": {
      "name": "python"
    }
  },
  "cells": [
    {
      "cell_type": "markdown",
      "metadata": {
        "id": "view-in-github",
        "colab_type": "text"
      },
      "source": [
        "<a href=\"https://colab.research.google.com/github/A1exandr12/JB_Intern-WikiEd/blob/main/JetBrains_internship.ipynb\" target=\"_parent\"><img src=\"https://colab.research.google.com/assets/colab-badge.svg\" alt=\"Open In Colab\"/></a>"
      ]
    },
    {
      "cell_type": "markdown",
      "metadata": {
        "id": "Yejopn9IBfKo"
      },
      "source": [
        "Скачиваем необходимые модули"
      ]
    },
    {
      "cell_type": "code",
      "metadata": {
        "id": "-GyxXb1g4zBX"
      },
      "source": [
        "!pip install wget\n",
        "!pip2 install Levenshtein "
      ],
      "execution_count": null,
      "outputs": []
    },
    {
      "cell_type": "markdown",
      "metadata": {
        "id": "22XusCjbAKvj"
      },
      "source": [
        "Скачиваем архив Dump'а"
      ]
    },
    {
      "cell_type": "code",
      "metadata": {
        "id": "mHGrUtnZmKYR"
      },
      "source": [
        "!wget https://dumps.wikimedia.org/enwiki/20210301/enwiki-20210301-pages-meta-history4.xml-p554267p558391.bz2"
      ],
      "execution_count": null,
      "outputs": []
    },
    {
      "cell_type": "markdown",
      "metadata": {
        "id": "JrSwazmPAY3n"
      },
      "source": [
        "Скачиваем инструмент WikiEd и выполняем make"
      ]
    },
    {
      "cell_type": "code",
      "metadata": {
        "id": "BebBaqXbNd8s"
      },
      "source": [
        "!git clone https://github.com/snukky/wikiedits.git\n",
        "!make "
      ],
      "execution_count": null,
      "outputs": []
    },
    {
      "cell_type": "markdown",
      "metadata": {
        "id": "VzXZg6tbAzbw"
      },
      "source": [
        "\n",
        "Разархивируем данные, прогоним их через скрипт для вытаскивания полной информации, которую затем запишем в файл и будем работать с ним"
      ]
    },
    {
      "cell_type": "code",
      "metadata": {
        "id": "DVtyZ66ylKc-"
      },
      "source": [
        "!bzcat /content/enwiki-20210301-pages-meta-history4.xml-p554267p558391.bz2 | python2 /content/drive/MyDrive/JetBrains_Intern/wikiedits/bin/wiki_edits.py -m > EN_pages-meta-history.txt"
      ],
      "execution_count": null,
      "outputs": []
    },
    {
      "cell_type": "markdown",
      "metadata": {
        "id": "ct2y7-kIB1C4"
      },
      "source": [
        "Скачиваем модуль ERRANT, который позволяет определять изменения между предложениями"
      ]
    },
    {
      "cell_type": "code",
      "metadata": {
        "id": "au866KxXfvEI"
      },
      "source": [
        "!pip3 install -U pip setuptools wheel\n",
        "!pip3 install errant\n",
        "!python3 -m spacy download en"
      ],
      "execution_count": null,
      "outputs": []
    },
    {
      "cell_type": "markdown",
      "metadata": {
        "id": "le4lqXVQDGtN"
      },
      "source": [
        "Классификация граммматических исправлений"
      ]
    },
    {
      "cell_type": "code",
      "metadata": {
        "id": "Zjj0aqdPkPHr"
      },
      "source": [
        "dataset_file = open(\"Dataset.txt\", \"w\")  \n",
        "i = 0\n",
        "annotator = errant.load('en')\n",
        "flag = 0\n",
        "dataset = []\n",
        "with open(\"EN_pages-meta-history.txt\", \"r\") as file:\n",
        "    for line in file:\n",
        "      if '###' in line and 'grammar' in line.lower():\n",
        "        flag = 1\n",
        "      else:\n",
        "        if '###' in line or line == '\\n':\n",
        "          pass\n",
        "        else:\n",
        "          if flag == 1 or flag == 2:\n",
        "            if flag==1:\n",
        "              prevline = line;\n",
        "              flag = 2\n",
        "            else:\n",
        "              dataset_file.write(prevline) \n",
        "              dataset_file.write('\\n')\n",
        "              dataset_file.write(line) \n",
        "              dataset_file.write('\\n')\n",
        "              dataset_file.write('\\n')  \n",
        "              #dataset.append(prevline + '\\n' + line)       \n",
        "              #print(prevline)\n",
        "              #print(line)\n",
        "              #print('\\n')\n",
        "              flag = 0\n",
        "          else:\n",
        "            if i%2==1:\n",
        "              orig = annotator.parse(prevline)\n",
        "              cor = annotator.parse(line)\n",
        "              edits = annotator.annotate(orig, cor)\n",
        "              for e in edits:\n",
        "                l = [(x in e.type) for x in ['ADV', 'DET', 'MORPH', 'INFL', 'NUM', 'POSS', 'PART', 'PREP', 'PRON', 'SPELL', 'SVA', 'TENSE']]\n",
        "                if True in l: \n",
        "                  dataset_file.write(prevline) \n",
        "                  dataset_file.write('\\n')\n",
        "                  dataset_file.write(line) \n",
        "                  dataset_file.write('\\n')\n",
        "                  dataset_file.write('\\n')  \n",
        "                  #dataset.append(prevline + '\\n' + line)\n",
        "                  #print(prevline)\n",
        "                  #print(line)\n",
        "                  #print('\\n')\n",
        "                  break\n",
        "            else:\n",
        "              prevline = line\n",
        "            i+=1\n",
        "dataset_file.close()\n",
        "      "
      ],
      "execution_count": 39,
      "outputs": []
    },
    {
      "cell_type": "code",
      "metadata": {
        "id": "UVIonnS0CVT7"
      },
      "source": [
        "#from google.colab import files\n",
        "#files.download('Dataset.txt')"
      ],
      "execution_count": null,
      "outputs": []
    }
  ]
}